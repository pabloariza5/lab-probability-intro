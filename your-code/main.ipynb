{
 "cells": [
  {
   "cell_type": "markdown",
   "metadata": {},
   "source": [
    "# Probability\n",
    "## Challenge 1\n",
    "\n",
    "A and B are events of a probability such that $P(A) = 0.3$, $P(B) = 0.6$ and $P(A \\cap B) = 0.1$\n",
    "\n",
    "Which of the following statements are true?  \n",
    "**HINT: draw a big Venn Diagram by your side**  \n",
    "* $P(\\overline{A}) = 0.7: True$\n",
    "* $P(A \\cup B) = 0.6: False(P(A \\cup B)= P(A)+P(B)-P(A\\cap B))$\n",
    "* $P(A \\cap \\overline{B}) = 0.2:   True$\n",
    "* $P(A \\cup \\overline{A}) = 1:   True$  \n",
    "* $P(A \\cap (B \\cup \\overline{B})) = 0.4:   False (P(A)*(P(B)+P(A)+(P(A)+P(B)))$\n",
    "* $P(\\overline{A} \\cap \\overline{B}) = 0.3:   True$\n",
    "* $P(\\overline{A \\cap B}) = 0.9:   True$"
   ]
  },
  {
   "cell_type": "markdown",
   "metadata": {},
   "source": [
    "## Challenge 2\n",
    "There is a box with 10 white balls, 12 red balls and 8 black balls. Calculate the probability of:\n",
    "* Taking a white ball out.\n",
    "* Taking a white ball on first extraction and a black ball out on second extraction without replacing the first one.\n",
    "* Taking a white ball on first extraction and a black ball out on second extraction replacing the first one.\n",
    "* Taking 3 balls and them being all different colours."
   ]
  },
  {
   "cell_type": "code",
   "execution_count": 3,
   "metadata": {},
   "outputs": [],
   "source": [
    "box = ('White','White','White','White','White','White','White','White','White','White','Red','Red','Red','Red','Red','Red','Red','Red','Red','Red','Red','Red','Black','Black','Black','Black','Black','Black','Black','Black')\n"
   ]
  },
  {
   "cell_type": "code",
   "execution_count": 10,
   "metadata": {},
   "outputs": [
    {
     "name": "stdout",
     "output_type": "stream",
     "text": [
      "Probability of having a white ball 0.333\n"
     ]
    }
   ],
   "source": [
    "# Probability taking a white ball\n",
    "w = box.count(\"White\")/len(box)\n",
    "print(f'Probability of having a white ball {round(w,3)}')"
   ]
  },
  {
   "cell_type": "code",
   "execution_count": 20,
   "metadata": {},
   "outputs": [
    {
     "name": "stdout",
     "output_type": "stream",
     "text": [
      "The probability of taking a white ball first, and a black one after, without replacing: 0.092\n"
     ]
    }
   ],
   "source": [
    "# Probability taking a white ball first and a black after without replacing\n",
    "wb_nr = (box.count(\"White\")/len(box))*(box.count(\"Black\")/(len(box)-1))\n",
    "print(f'The probability of taking a white ball first, and a black one after, without replacing: {round(wb_nr,3)}')\n"
   ]
  },
  {
   "cell_type": "code",
   "execution_count": 23,
   "metadata": {},
   "outputs": [
    {
     "name": "stdout",
     "output_type": "stream",
     "text": [
      "The probability of taking a white ball first, and a black one after, without replacing: 0.089\n"
     ]
    }
   ],
   "source": [
    "# Probability taking a white ball first and a black after, replacing the first one\n",
    "wb_r = (box.count(\"White\")/len(box))*(box.count(\"Black\")/(len(box)))\n",
    "print(f'The probability of taking a white ball first, and a black one after, without replacing: {round(wb_r,3)}')\n"
   ]
  },
  {
   "cell_type": "markdown",
   "metadata": {},
   "source": [
    "## Challenge 3\n",
    "\n",
    "You are planning to go on a picnic today but the morning is cloudy. You hate rain so you don't know whether to go out or stay home! To help you make a decision, you gather the following data about rainy days:\n",
    "\n",
    "* 50% of all rainy days start off cloudy!\n",
    "* Cloudy mornings are common. About 40% of days start cloudy. \n",
    "* This month is usually dry so only 3 of 30 days (10%) tend to be rainy. \n",
    "\n",
    "What is the chance of rain during the day?"
   ]
  },
  {
   "cell_type": "code",
   "execution_count": null,
   "metadata": {},
   "outputs": [],
   "source": []
  },
  {
   "cell_type": "markdown",
   "metadata": {},
   "source": [
    "## Challenge 4\n",
    "\n",
    " * If someone flies to China, the probability of getting Covid is 1%  \n",
    " * If someone flies to Italy, the probability of getting Covid is 20%  \n",
    "\n",
    "I roll 1 dice with numbers 1, 2, 3, 4, 5, 6:  \n",
    " * If 1: I fly to Italy\n",
    " * If not 1: I fly to China\n",
    "\n",
    "During my trip, I got Covid. What is the probability that I flew to China?"
   ]
  },
  {
   "cell_type": "code",
   "execution_count": 29,
   "metadata": {},
   "outputs": [],
   "source": [
    "covid_china = 0.01\n",
    "covid_italy = 0.2\n",
    "going_china = 5/6\n",
    "going_italy = 1/6"
   ]
  },
  {
   "cell_type": "code",
   "execution_count": 30,
   "metadata": {},
   "outputs": [
    {
     "data": {
      "text/plain": [
       "0.041666666666666664"
      ]
     },
     "execution_count": 30,
     "metadata": {},
     "output_type": "execute_result"
    }
   ],
   "source": [
    "covid_china * going_china + covid_italy * going_italy"
   ]
  },
  {
   "cell_type": "markdown",
   "metadata": {},
   "source": [
    "## BONUS\n",
    "\n",
    "You roll 2 dice. What is the probability that the sum of the numbers is 7? And 8? And 9? Then simulate 10000 times and draw a histogram."
   ]
  },
  {
   "cell_type": "markdown",
   "metadata": {},
   "source": [
    "your explanation here"
   ]
  },
  {
   "cell_type": "code",
   "execution_count": 11,
   "metadata": {},
   "outputs": [],
   "source": [
    "from itertools import permutations"
   ]
  },
  {
   "cell_type": "code",
   "execution_count": 30,
   "metadata": {},
   "outputs": [
    {
     "name": "stdout",
     "output_type": "stream",
     "text": [
      "There are 36 possible permutations\n"
     ]
    }
   ],
   "source": [
    "dices = (1,2,3,4,5,6,1,2,3,4,5,6) # Assigning possible values to variable dice\n",
    "results = list(permutations(dices, 2)) # Permute the results of two dices\n",
    "results = set(results) # Finding unique values\n",
    "print(f'There are {len(results)} possible permutations') # Print solution\n"
   ]
  },
  {
   "cell_type": "code",
   "execution_count": 41,
   "metadata": {},
   "outputs": [
    {
     "name": "stdout",
     "output_type": "stream",
     "text": [
      "The probability of summing 7 with two dices is: 0.167\n"
     ]
    }
   ],
   "source": [
    "# Probability of summing 7 with two dices\n",
    "sums = list(map(sum, results)) # Make a list with all possible sums of two dices\n",
    "sums_7 = [] #Start an empty array\n",
    "for num in sums:\n",
    "    if num == 7:\n",
    "        sums_7.append(num) # Append numbers in list of sums that equal 7 to my list.\n",
    "p_7 = len(sums_7) / len(results) # Number of possibilities that sum 7 / number of possible sums\n",
    "\n",
    "print(f'The probability of summing 7 with two dices is: {round(p_7,3)}')"
   ]
  },
  {
   "cell_type": "code",
   "execution_count": 42,
   "metadata": {},
   "outputs": [
    {
     "name": "stdout",
     "output_type": "stream",
     "text": [
      "The probability of summing 8 with two dices is: 0.139\n"
     ]
    }
   ],
   "source": [
    "# Probability of summing 8 with two dices\n",
    "sums = list(map(sum, results)) # Make a list with all possible sums of two dices\n",
    "sums_8 = [] #Start an empty array\n",
    "for num in sums:\n",
    "    if num == 8:\n",
    "        sums_8.append(num) # Append numbers in list of sums that equal 8 to my list.\n",
    "p_8 = len(sums_8) / len(results) # Number of possibilities that sum 8 / number of possible sums\n",
    "\n",
    "print(f'The probability of summing 8 with two dices is: {round(p_8,3)}')"
   ]
  },
  {
   "cell_type": "code",
   "execution_count": 43,
   "metadata": {},
   "outputs": [
    {
     "name": "stdout",
     "output_type": "stream",
     "text": [
      "The probability of summing 9 with two dices is: 0.111\n"
     ]
    }
   ],
   "source": [
    "# Probability of summing 9 with two dices\n",
    "sums = list(map(sum, results)) # Make a list with all possible sums of two dices\n",
    "sums_9 = [] #Start an empty array\n",
    "for num in sums:\n",
    "    if num == 9:\n",
    "        sums_9.append(num) # Append numbers in list of sums that equal 9 to my list.\n",
    "p_9 = len(sums_9) / len(results) # Number of possibilities that sum 9 / number of possible sums\n",
    "\n",
    "print(f'The probability of summing 9 with two dices is: {round(p_9,3)}')"
   ]
  }
 ],
 "metadata": {
  "kernelspec": {
   "display_name": "Python 3",
   "language": "python",
   "name": "python3"
  },
  "language_info": {
   "codemirror_mode": {
    "name": "ipython",
    "version": 3
   },
   "file_extension": ".py",
   "mimetype": "text/x-python",
   "name": "python",
   "nbconvert_exporter": "python",
   "pygments_lexer": "ipython3",
   "version": "3.6.3"
  },
  "toc": {
   "base_numbering": 1,
   "nav_menu": {},
   "number_sections": false,
   "sideBar": true,
   "skip_h1_title": false,
   "title_cell": "Table of Contents",
   "title_sidebar": "Contents",
   "toc_cell": false,
   "toc_position": {
    "height": "calc(100% - 180px)",
    "left": "10px",
    "top": "150px",
    "width": "296.475px"
   },
   "toc_section_display": true,
   "toc_window_display": false
  },
  "varInspector": {
   "cols": {
    "lenName": 16,
    "lenType": 16,
    "lenVar": 40
   },
   "kernels_config": {
    "python": {
     "delete_cmd_postfix": "",
     "delete_cmd_prefix": "del ",
     "library": "var_list.py",
     "varRefreshCmd": "print(var_dic_list())"
    },
    "r": {
     "delete_cmd_postfix": ") ",
     "delete_cmd_prefix": "rm(",
     "library": "var_list.r",
     "varRefreshCmd": "cat(var_dic_list()) "
    }
   },
   "types_to_exclude": [
    "module",
    "function",
    "builtin_function_or_method",
    "instance",
    "_Feature"
   ],
   "window_display": false
  }
 },
 "nbformat": 4,
 "nbformat_minor": 2
}
